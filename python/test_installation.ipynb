{
 "cells": [
  {
   "cell_type": "code",
   "execution_count": 3,
   "metadata": {},
   "outputs": [],
   "source": [
    "import pandas as pd\n",
    "import numpy as np\n",
    "\n",
    "from sklearn import model_selection\n",
    "from model.gosdt import GOSDT"
   ]
  },
  {
   "cell_type": "code",
   "execution_count": 4,
   "metadata": {},
   "outputs": [],
   "source": [
    "dataframe = pd.DataFrame(pd.read_csv(\"../experiments/datasets/compas/binned.csv\"))\n",
    "\n",
    "X = dataframe[dataframe.columns[:-1]]\n",
    "y = dataframe[dataframe.columns[-1:]]\n",
    "\n",
    "hyperparameters = {\n",
    "    \"regularization\": 0.002,\n",
    "    \"time_limit\": 30,\n",
    "    \"verbose\": True,\n",
    "}"
   ]
  },
  {
   "cell_type": "code",
   "execution_count": 5,
   "metadata": {},
   "outputs": [],
   "source": [
    "X_train, X_test, y_train, y_test = model_selection.train_test_split(X, y)"
   ]
  },
  {
   "cell_type": "code",
   "execution_count": 6,
   "metadata": {},
   "outputs": [
    {
     "name": "stdout",
     "output_type": "stream",
     "text": [
      "Using configuration: {\n",
      "  \"balance\": false,\n",
      "  \"cancellation\": true,\n",
      "  \"continuous_feature_exchange\": true,\n",
      "  \"costs\": \"\",\n",
      "  \"diagnostics\": false,\n",
      "  \"feature_exchange\": true,\n",
      "  \"feature_transform\": true,\n",
      "  \"look_ahead\": true,\n",
      "  \"model\": \"\",\n",
      "  \"model_limit\": 1,\n",
      "  \"non_binary\": false,\n",
      "  \"precision_limit\": 0,\n",
      "  \"profile\": \"\",\n",
      "  \"regularization\": 0.0020000000949949026,\n",
      "  \"rule_list\": false,\n",
      "  \"similar_support\": true,\n",
      "  \"stack_limit\": 0,\n",
      "  \"time_limit\": 30,\n",
      "  \"timing\": \"\",\n",
      "  \"trace\": \"\",\n",
      "  \"tree\": \"\",\n",
      "  \"uncertainty_tolerance\": 0.0,\n",
      "  \"upperbound\": 0.0,\n",
      "  \"verbose\": true,\n",
      "  \"worker_limit\": 1\n",
      "}\n",
      "Initializing Optimization Framework\n",
      "Feature Index: 0, Feature Name: sex:Female\n",
      "  Inferred Type: Binary, Empirical Cardinality: 2, Optionality: 0\n",
      "Feature Index: 1, Feature Name: age:<21\n",
      "  Inferred Type: Binary, Empirical Cardinality: 2, Optionality: 0\n",
      "Feature Index: 2, Feature Name: age:<23\n",
      "  Inferred Type: Binary, Empirical Cardinality: 2, Optionality: 0\n",
      "Feature Index: 3, Feature Name: age:<26\n",
      "  Inferred Type: Binary, EmpirExecution Time: 0.5170000195503235ical Cardinality: 2, Optionality: 0\n",
      "Feature Index: 4, Feature Name: age:<46\n",
      "  Inferred Type: Binary, Empirical Cardinality: 2, Optionality: 0\n",
      "Feature Index: 5, Feature Name: juvenile-felonies:=0\n",
      "  Inferred Type: Binary, Empirical Cardinality: 2, Optionality: 0\n",
      "Feature Index: 6, Feature Name: juvenile-misdemeanors:=0\n",
      "  Inferred Type: Binary, Empirical Cardinality: 2, Optionality: 0\n",
      "Feature Index: 7, Feature Name: juvenile-crimes:=0\n",
      "  Inferred Type: Binary, Empirical Cardinality: 2, Optionality: 0\n",
      "Feature Index: 8, Feature Name: priors:=0\n",
      "  Inferred Type: Binary, Empirical Cardinality: 2, Optionality: 0\n",
      "Feature Index: 9, Feature Name: priors:=1\n",
      "  Inferred Type: Binary, Empirical Cardinality: 2, Optionality: 0\n",
      "Feature Index: 10, Feature Name: priors:2-3\n",
      "  Inferred Type: Binary, Empirical Cardinality: 2, Optionality: 0\n",
      "Feature Index: 11, Feature Name: priors:>3\n",
      "  Inferred Type: Binary, Empirical Cardinality: 2, Optionality: 0\n",
      "Feature Index: 12, Feature Name: class\n",
      "  Inferred Type: Categori\n",
      "cal, Empirical Cardinality: 2, Optionality: 0\n",
      "Original Dataset Dimension: 5180 x 13\n",
      "Binary Dataset Dimension: 5180 x 14\n",
      "Dataset Dimensions: 5180 x 12 x 2\n",
      "Starting Optimization\n",
      "Time: 0.000628064, Objective: [0.331483, 0.368865], Boundary: 0.0373822, Graph Size: 1, Queue Size: 24\n",
      "Time: 0.458125, Objective: [0.332517, 0.345205], Boundary: 0.0126873, Graph Size: 2929, Queue Size: 980\n",
      "Time: 0.460212, Objective: [0.332517, 0.344942], Boundary: 0.0124247, Graph Size: 2942, Queue Size: 930\n",
      "Time: 0.4859, Objective: [0.332517, 0.344942], Boundary: 0.0124247, Graph Size: 3048, Queue Size: 345\n",
      "Time: 0.514859, Objective: [0.332517, 0.344556], Boundary: 0.0120386, Graph Size: 3056, Queue Size: 34\n",
      "Time: 0.516563, Objective: [0.335027, 0.344556], Boundary: 0.00952891, Graph Size: 3056, Queue Size: 21\n",
      "Time: 0.516671, Objective: [0.336834, 0.344556], Boundary: 0.00772202, Graph Size: 3056, Queue Size: 20\n",
      "Time: 0.51673, Objective: [0.337992, 0.344556], Boundary: 0.00656369, Graph Size: 3056, Queue Size: 19\n",
      "Time: 0.517043, Objective: [0.338062, 0.344556], Boundary: 0.00649422, Graph Size: 3056, Queue Size: 18\n",
      "Time: 0.517444, Objective: [0.338309, 0.344556], Boundary: 0.0062471, Graph Size: 3056, Queue Size: 10\n",
      "Time: 0.517524, Objective: [0.344556, 0.344556], Boundary: 0, Graph Size: 3056, Queue Size: 10\n",
      "Optimization Complete\n",
      "Training Duration: 0.517 seconds\n",
      "Number of Iterations: 11746 iterations\n",
      "Size of Graph: 3056 nodes\n",
      "Objective Boundary: [0.344556, 0.344556]\n",
      "Optimality Gap: 0\n",
      "Models Generated: 1\n",
      "Loss: 0.334556\n",
      "Complexity: 0.01\n"
     ]
    }
   ],
   "source": [
    "model = GOSDT(hyperparameters)\n",
    "model.fit(X_train, y_train)\n",
    "print(\"Execution Time: {}\".format(model.time))"
   ]
  },
  {
   "cell_type": "code",
   "execution_count": 7,
   "metadata": {},
   "outputs": [
    {
     "name": "stdout",
     "output_type": "stream",
     "text": [
      "Training Accuracy: 0.6797915460335843\n",
      "if priors:>3 = 1 then:\n",
      "    predicted class: 1\n",
      "    misclassification penalty: 0.104\n",
      "    complexity penalty: 0.002\n",
      "\n",
      "else if age:<26 = 1 and juvenile-crimes:=0 = 1 and priors:2-3 = 1 and priors:>3 != 1 then:\n",
      "    predicted class: 1\n",
      "    misclassification penalty: 0.018\n",
      "    complexity penalty: 0.002\n",
      "\n",
      "else if age:<26 = 1 and juvenile-crimes:=0 = 1 and priors:2-3 != 1 and priors:>3 != 1 then:\n",
      "    predicted class: 0\n",
      "    misclassification penalty: 0.066\n",
      "    complexity penalty: 0.002\n",
      "\n",
      "else if age:<26 = 1 and juvenile-crimes:=0 != 1 and priors:>3 != 1 then:\n",
      "    predicted class: 1\n",
      "    misclassification penalty: 0.018\n",
      "    complexity penalty: 0.002\n",
      "\n",
      "else if age:<26 != 1 and priors:>3 != 1 then:\n",
      "    predicted class: 0\n",
      "    misclassification penalty: 0.129\n",
      "    complexity penalty: 0.002\n"
     ]
    }
   ],
   "source": [
    "prediction = model.predict(X_test)\n",
    "training_accuracy = model.score(X_test, y_test)\n",
    "print(\"Training Accuracy: {}\".format(training_accuracy))\n",
    "print(model.tree)"
   ]
  }
 ],
 "metadata": {
  "interpreter": {
   "hash": "88b44fd289801b8ea4f2ff653147c326007f4497d2047b559f97683ce23a45c5"
  },
  "kernelspec": {
   "display_name": "Python 3.9.7 64-bit ('gosdt': conda)",
   "name": "python3"
  },
  "language_info": {
   "codemirror_mode": {
    "name": "ipython",
    "version": 3
   },
   "file_extension": ".py",
   "mimetype": "text/x-python",
   "name": "python",
   "nbconvert_exporter": "python",
   "pygments_lexer": "ipython3",
   "version": "3.9.7"
  }
 },
 "nbformat": 4,
 "nbformat_minor": 4
}
