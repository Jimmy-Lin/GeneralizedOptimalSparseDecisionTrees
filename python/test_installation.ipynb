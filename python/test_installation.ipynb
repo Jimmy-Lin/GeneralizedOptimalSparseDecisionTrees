{
 "cells": [
  {
   "cell_type": "code",
   "execution_count": 2,
   "metadata": {},
   "outputs": [],
   "source": [
    "import pandas as pd\n",
    "import numpy as np\n",
    "from model.gosdt import GOSDT"
   ]
  },
  {
   "cell_type": "code",
   "execution_count": 4,
   "metadata": {},
   "outputs": [],
   "source": [
    "dataframe = pd.DataFrame(pd.read_csv(\"../experiments/datasets/monk_2/data.csv\"))\n",
    "\n",
    "X = dataframe[dataframe.columns[:-1]]\n",
    "y = dataframe[dataframe.columns[-1:]]\n",
    "\n",
    "hyperparameters = {\n",
    "    \"regularization\": 0.1,\n",
    "    \"time_limit\": 3600,\n",
    "    \"verbose\": True,\n",
    "}"
   ]
  },
  {
   "cell_type": "code",
   "execution_count": 5,
   "metadata": {},
   "outputs": [
    {
     "name": "stdout",
     "output_type": "stream",
     "text": [
      "Execution Time: 0.0010000000474974513\n",
      "Using configuration: {\n",
      "  \"balance\": false,\n",
      "  \"cancellation\": true,\n",
      "  \"continuous_feature_exchange\": true,\n",
      "  \"costs\": \"\",\n",
      "  \"diagnostics\": false,\n",
      "  \"feature_exchange\": true,\n",
      "  \"feature_transform\": true,\n",
      "  \"look_ahead\": true,\n",
      "  \"model\": \"\",\n",
      "  \"model_limit\": 1,\n",
      "  \"non_binary\": false,\n",
      "  \"precision_limit\": 0,\n",
      "  \"profile\": \"\",\n",
      "  \"regularization\": 0.10000000149011612,\n",
      "  \"rule_list\": false,\n",
      "  \"similar_support\": true,\n",
      "  \"stack_limit\": 0,\n",
      "  \"time_limit\": 3600,\n",
      "  \"timing\": \"\",\n",
      "  \"trace\": \"\",\n",
      "  \"tree\": \"\",\n",
      "  \"uncertainty_tolerance\": 0.0,\n",
      "  \"upperbound\": 0.0,\n",
      "  \"verbose\": true,\n",
      "  \"worker_limit\": 1\n",
      "}\n",
      "Initializing Optimization Framework\n",
      "Feature Index: 0, Feature Name: a1_1\n",
      "  Inferred Type: Binary, Empirical Cardinality: 2, Optionality: 0\n",
      "Feature Index: 1, Feature Name: a1_2\n",
      "  Inferred Type: Binary, Empirical Cardinality: 2, Optionality: 0\n",
      "Feature Index: 2, Feature Name: a2_1\n",
      "  Inferred Type: Binary, Empirical Cardinality: 2, Optionality: 0\n",
      "Feature Index: 3, Feature Name: a2_2\n",
      "  Inferred Type: Binary, Empirical Cardinality: 2, Optionality: 0\n",
      "Feature Index: 4, Feature Name: a3_1\n",
      "  Inferred Type: Binary, Empirical Cardinality: 2, Optionality: 0\n",
      "Feature Index: 5, Feature Name: a4_1\n",
      "  Inferred Type: Binary, Empirical Cardinality: 2, Optionality: 0\n",
      "Feature Index: 6, Feature Name: a4_2\n",
      "  Inferred Type: Binary, Empirical Cardinality: 2, Optionality: 0\n",
      "Feature Index: 7, Feature Name: a5_1\n",
      "  Inferred Type: Binary, Empirical Cardinality: 2, Optionality: 0\n",
      "Feature Index: 8, Feature Name: a5_2\n",
      "  Inferred Type: Binary, Empirical Cardinality: 2, Optionality: 0\n",
      "Feature Index: 9, Feature Name: a5_3\n",
      "  Inferred Type: Binary, Empirical Cardinality: 2, Optionality: 0\n",
      "Feature Index: 10, Feature Name: a6_1\n",
      "  Inferred Type: Binary, Empirical Cardinality: 2, Optionality: 0\n",
      "Feature Index: 11, Feature Name: class\n",
      "  Inferred Type: Categorical, Empirical Cardinality: 2, Optionality: 0\n",
      "Original Dataset Dimension: 169 x 12\n",
      "Binary Dataset Dimension: 169 x 13\n",
      "Dataset Dimensions: 169 x 11 x 2\n",
      "Starting Optimization\n",
      "Time: 0.000376409, Objective: [0.38284, 0.478698], Boundary: 0.095858, Graph Size: 1, Queue Size: 22\n",
      "Time: 0.00138074, Objective: [0.478698, 0.478698], Boundary: 0, Graph Size: 23, Queue Size: 0\n",
      "Optimization Complete\n",
      "Training Duration: 0.001 seconds\n",
      "Number of Iterations: 23 iterations\n",
      "Size of Graph: 23 nodes\n",
      "Objective Boundary: [0.478698, 0.478698]\n",
      "Optimality Gap: 0\n",
      "Models Generated: 1\n",
      "Loss: 0.378698\n",
      "Complexity: 0.1\n"
     ]
    }
   ],
   "source": [
    "model = GOSDT(hyperparameters)\n",
    "model.fit(X, y)\n",
    "print(\"Execution Time: {}\".format(model.time))"
   ]
  },
  {
   "cell_type": "code",
   "execution_count": null,
   "metadata": {},
   "outputs": [],
   "source": []
  }
 ],
 "metadata": {
  "kernelspec": {
   "display_name": "Environment (conda_gosdt-3.9)",
   "language": "python",
   "name": "conda_gosdt-3.9"
  },
  "language_info": {
   "codemirror_mode": {
    "name": "ipython",
    "version": 3
   },
   "file_extension": ".py",
   "mimetype": "text/x-python",
   "name": "python",
   "nbconvert_exporter": "python",
   "pygments_lexer": "ipython3",
   "version": "3.9.7"
  }
 },
 "nbformat": 4,
 "nbformat_minor": 4
}
